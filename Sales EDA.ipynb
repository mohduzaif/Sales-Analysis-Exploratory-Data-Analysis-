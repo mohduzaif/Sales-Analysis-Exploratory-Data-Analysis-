{
 "cells": [
  {
   "cell_type": "markdown",
   "id": "81ca576b-1d29-416a-bc1e-59ff924e6060",
   "metadata": {},
   "source": [
    "## Sales Analysis"
   ]
  },
  {
   "cell_type": "markdown",
   "id": "ffdb69da-a366-4354-b5c2-c03ef55c967b",
   "metadata": {},
   "source": [
    "#### Import Necessary Libraries."
   ]
  },
  {
   "cell_type": "code",
   "execution_count": 29,
   "id": "168389d2-392d-4960-a480-dd501393d15f",
   "metadata": {},
   "outputs": [],
   "source": [
    "import pandas as pd\n",
    "import os\n",
    "import glob"
   ]
  },
  {
   "cell_type": "markdown",
   "id": "86105ed6-d2d8-4023-a27e-73bf4e507522",
   "metadata": {},
   "source": [
    "#### Merging of all 12 months data files into a single file."
   ]
  },
  {
   "cell_type": "code",
   "execution_count": 59,
   "id": "00bc2745-c286-4d92-9a03-e8ac48d1a4df",
   "metadata": {},
   "outputs": [],
   "source": [
    "# Firstly get the path of the directory where the files are stored.\n",
    "path = 'Sales_Data'\n",
    "\n",
    "# os library contains the path module with a join function used to join the path dynamically.\n",
    "# glob is a library that has a module glob that reads the name of all the files present in that directory.\n",
    "all_files = glob.glob(os.path.join(path, '*.csv'))\n",
    "# print(all_files)\n",
    "\n",
    "dataframe_list = []\n",
    "for file in all_files:\n",
    "    current_df = pd.read_csv(file)\n",
    "    dataframe_list.append(current_df)\n",
    "all_months_data = pd.concat(dataframe_list, ignore_index = True)\n",
    "\n",
    "all_months_data.to_csv(r'C:\\Users\\Mohd Uzaif\\Desktop\\Data Science\\Sales (Exploratory Data Analysis)\\all_months_data.csv', index = False)"
   ]
  },
  {
   "cell_type": "markdown",
   "id": "98a45591-e7e5-4ee9-ac50-5d7701a6cfc9",
   "metadata": {},
   "source": [
    "#### First look of Updated Data."
   ]
  },
  {
   "cell_type": "code",
   "execution_count": 60,
   "id": "b0fea16d-7d15-4fd2-a3a7-ba4b51530e63",
   "metadata": {
    "scrolled": true
   },
   "outputs": [
    {
     "data": {
      "text/html": [
       "<div>\n",
       "<style scoped>\n",
       "    .dataframe tbody tr th:only-of-type {\n",
       "        vertical-align: middle;\n",
       "    }\n",
       "\n",
       "    .dataframe tbody tr th {\n",
       "        vertical-align: top;\n",
       "    }\n",
       "\n",
       "    .dataframe thead th {\n",
       "        text-align: right;\n",
       "    }\n",
       "</style>\n",
       "<table border=\"1\" class=\"dataframe\">\n",
       "  <thead>\n",
       "    <tr style=\"text-align: right;\">\n",
       "      <th></th>\n",
       "      <th>Order ID</th>\n",
       "      <th>Product</th>\n",
       "      <th>Quantity Ordered</th>\n",
       "      <th>Price Each</th>\n",
       "      <th>Order Date</th>\n",
       "      <th>Purchase Address</th>\n",
       "    </tr>\n",
       "  </thead>\n",
       "  <tbody>\n",
       "    <tr>\n",
       "      <th>0</th>\n",
       "      <td>176558</td>\n",
       "      <td>USB-C Charging Cable</td>\n",
       "      <td>2</td>\n",
       "      <td>11.95</td>\n",
       "      <td>04/19/19 08:46</td>\n",
       "      <td>917 1st St, Dallas, TX 75001</td>\n",
       "    </tr>\n",
       "    <tr>\n",
       "      <th>1</th>\n",
       "      <td>NaN</td>\n",
       "      <td>NaN</td>\n",
       "      <td>NaN</td>\n",
       "      <td>NaN</td>\n",
       "      <td>NaN</td>\n",
       "      <td>NaN</td>\n",
       "    </tr>\n",
       "    <tr>\n",
       "      <th>2</th>\n",
       "      <td>176559</td>\n",
       "      <td>Bose SoundSport Headphones</td>\n",
       "      <td>1</td>\n",
       "      <td>99.99</td>\n",
       "      <td>04/07/19 22:30</td>\n",
       "      <td>682 Chestnut St, Boston, MA 02215</td>\n",
       "    </tr>\n",
       "    <tr>\n",
       "      <th>3</th>\n",
       "      <td>176560</td>\n",
       "      <td>Google Phone</td>\n",
       "      <td>1</td>\n",
       "      <td>600</td>\n",
       "      <td>04/12/19 14:38</td>\n",
       "      <td>669 Spruce St, Los Angeles, CA 90001</td>\n",
       "    </tr>\n",
       "    <tr>\n",
       "      <th>4</th>\n",
       "      <td>176560</td>\n",
       "      <td>Wired Headphones</td>\n",
       "      <td>1</td>\n",
       "      <td>11.99</td>\n",
       "      <td>04/12/19 14:38</td>\n",
       "      <td>669 Spruce St, Los Angeles, CA 90001</td>\n",
       "    </tr>\n",
       "  </tbody>\n",
       "</table>\n",
       "</div>"
      ],
      "text/plain": [
       "  Order ID                     Product Quantity Ordered Price Each  \\\n",
       "0   176558        USB-C Charging Cable                2      11.95   \n",
       "1      NaN                         NaN              NaN        NaN   \n",
       "2   176559  Bose SoundSport Headphones                1      99.99   \n",
       "3   176560                Google Phone                1        600   \n",
       "4   176560            Wired Headphones                1      11.99   \n",
       "\n",
       "       Order Date                      Purchase Address  \n",
       "0  04/19/19 08:46          917 1st St, Dallas, TX 75001  \n",
       "1             NaN                                   NaN  \n",
       "2  04/07/19 22:30     682 Chestnut St, Boston, MA 02215  \n",
       "3  04/12/19 14:38  669 Spruce St, Los Angeles, CA 90001  \n",
       "4  04/12/19 14:38  669 Spruce St, Los Angeles, CA 90001  "
      ]
     },
     "execution_count": 60,
     "metadata": {},
     "output_type": "execute_result"
    }
   ],
   "source": [
    "all_data = pd.read_csv('all_months_data.csv')\n",
    "# all_data.shape\n",
    "all_data.head()"
   ]
  },
  {
   "cell_type": "markdown",
   "id": "ed1526a3-4e3d-4477-8da4-ce33e6249586",
   "metadata": {},
   "source": [
    "####  Clean up the given Data."
   ]
  },
  {
   "cell_type": "markdown",
   "id": "2ea90ce1-bc1a-4774-acc1-b5c2cfe1e881",
   "metadata": {},
   "source": [
    "##### Drop rows of NaN."
   ]
  },
  {
   "cell_type": "code",
   "execution_count": 61,
   "id": "c8fcaa3b-f5b0-4209-a02f-dffb4e37294a",
   "metadata": {},
   "outputs": [
    {
     "data": {
      "text/html": [
       "<div>\n",
       "<style scoped>\n",
       "    .dataframe tbody tr th:only-of-type {\n",
       "        vertical-align: middle;\n",
       "    }\n",
       "\n",
       "    .dataframe tbody tr th {\n",
       "        vertical-align: top;\n",
       "    }\n",
       "\n",
       "    .dataframe thead th {\n",
       "        text-align: right;\n",
       "    }\n",
       "</style>\n",
       "<table border=\"1\" class=\"dataframe\">\n",
       "  <thead>\n",
       "    <tr style=\"text-align: right;\">\n",
       "      <th></th>\n",
       "      <th>Order ID</th>\n",
       "      <th>Product</th>\n",
       "      <th>Quantity Ordered</th>\n",
       "      <th>Price Each</th>\n",
       "      <th>Order Date</th>\n",
       "      <th>Purchase Address</th>\n",
       "    </tr>\n",
       "  </thead>\n",
       "  <tbody>\n",
       "    <tr>\n",
       "      <th>0</th>\n",
       "      <td>176558</td>\n",
       "      <td>USB-C Charging Cable</td>\n",
       "      <td>2</td>\n",
       "      <td>11.95</td>\n",
       "      <td>04/19/19 08:46</td>\n",
       "      <td>917 1st St, Dallas, TX 75001</td>\n",
       "    </tr>\n",
       "    <tr>\n",
       "      <th>2</th>\n",
       "      <td>176559</td>\n",
       "      <td>Bose SoundSport Headphones</td>\n",
       "      <td>1</td>\n",
       "      <td>99.99</td>\n",
       "      <td>04/07/19 22:30</td>\n",
       "      <td>682 Chestnut St, Boston, MA 02215</td>\n",
       "    </tr>\n",
       "    <tr>\n",
       "      <th>3</th>\n",
       "      <td>176560</td>\n",
       "      <td>Google Phone</td>\n",
       "      <td>1</td>\n",
       "      <td>600</td>\n",
       "      <td>04/12/19 14:38</td>\n",
       "      <td>669 Spruce St, Los Angeles, CA 90001</td>\n",
       "    </tr>\n",
       "    <tr>\n",
       "      <th>4</th>\n",
       "      <td>176560</td>\n",
       "      <td>Wired Headphones</td>\n",
       "      <td>1</td>\n",
       "      <td>11.99</td>\n",
       "      <td>04/12/19 14:38</td>\n",
       "      <td>669 Spruce St, Los Angeles, CA 90001</td>\n",
       "    </tr>\n",
       "    <tr>\n",
       "      <th>5</th>\n",
       "      <td>176561</td>\n",
       "      <td>Wired Headphones</td>\n",
       "      <td>1</td>\n",
       "      <td>11.99</td>\n",
       "      <td>04/30/19 09:27</td>\n",
       "      <td>333 8th St, Los Angeles, CA 90001</td>\n",
       "    </tr>\n",
       "  </tbody>\n",
       "</table>\n",
       "</div>"
      ],
      "text/plain": [
       "  Order ID                     Product Quantity Ordered Price Each  \\\n",
       "0   176558        USB-C Charging Cable                2      11.95   \n",
       "2   176559  Bose SoundSport Headphones                1      99.99   \n",
       "3   176560                Google Phone                1        600   \n",
       "4   176560            Wired Headphones                1      11.99   \n",
       "5   176561            Wired Headphones                1      11.99   \n",
       "\n",
       "       Order Date                      Purchase Address  \n",
       "0  04/19/19 08:46          917 1st St, Dallas, TX 75001  \n",
       "2  04/07/19 22:30     682 Chestnut St, Boston, MA 02215  \n",
       "3  04/12/19 14:38  669 Spruce St, Los Angeles, CA 90001  \n",
       "4  04/12/19 14:38  669 Spruce St, Los Angeles, CA 90001  \n",
       "5  04/30/19 09:27     333 8th St, Los Angeles, CA 90001  "
      ]
     },
     "execution_count": 61,
     "metadata": {},
     "output_type": "execute_result"
    }
   ],
   "source": [
    "# Find all rows containing the NaN values in NaN_df.\n",
    "NaN_df = all_data[all_data.isna().any(axis=1)]\n",
    "\n",
    "# Remove all the rows from the data frame that contain all NaN.\n",
    "all_data = all_data.dropna(axis = 0, how = 'all')\n",
    "all_data.head()"
   ]
  },
  {
   "cell_type": "markdown",
   "id": "bf1169b0-aed0-4b26-aa30-c2904d41b692",
   "metadata": {},
   "source": [
    "##### Find Or and delete it."
   ]
  },
  {
   "cell_type": "code",
   "execution_count": 62,
   "id": "1b6c9335-6352-4bcf-8f68-05fc2a02df12",
   "metadata": {},
   "outputs": [
    {
     "data": {
      "text/html": [
       "<div>\n",
       "<style scoped>\n",
       "    .dataframe tbody tr th:only-of-type {\n",
       "        vertical-align: middle;\n",
       "    }\n",
       "\n",
       "    .dataframe tbody tr th {\n",
       "        vertical-align: top;\n",
       "    }\n",
       "\n",
       "    .dataframe thead th {\n",
       "        text-align: right;\n",
       "    }\n",
       "</style>\n",
       "<table border=\"1\" class=\"dataframe\">\n",
       "  <thead>\n",
       "    <tr style=\"text-align: right;\">\n",
       "      <th></th>\n",
       "      <th>Order ID</th>\n",
       "      <th>Product</th>\n",
       "      <th>Quantity Ordered</th>\n",
       "      <th>Price Each</th>\n",
       "      <th>Order Date</th>\n",
       "      <th>Purchase Address</th>\n",
       "    </tr>\n",
       "  </thead>\n",
       "  <tbody>\n",
       "    <tr>\n",
       "      <th>0</th>\n",
       "      <td>176558</td>\n",
       "      <td>USB-C Charging Cable</td>\n",
       "      <td>2</td>\n",
       "      <td>11.95</td>\n",
       "      <td>04/19/19 08:46</td>\n",
       "      <td>917 1st St, Dallas, TX 75001</td>\n",
       "    </tr>\n",
       "    <tr>\n",
       "      <th>2</th>\n",
       "      <td>176559</td>\n",
       "      <td>Bose SoundSport Headphones</td>\n",
       "      <td>1</td>\n",
       "      <td>99.99</td>\n",
       "      <td>04/07/19 22:30</td>\n",
       "      <td>682 Chestnut St, Boston, MA 02215</td>\n",
       "    </tr>\n",
       "    <tr>\n",
       "      <th>3</th>\n",
       "      <td>176560</td>\n",
       "      <td>Google Phone</td>\n",
       "      <td>1</td>\n",
       "      <td>600</td>\n",
       "      <td>04/12/19 14:38</td>\n",
       "      <td>669 Spruce St, Los Angeles, CA 90001</td>\n",
       "    </tr>\n",
       "    <tr>\n",
       "      <th>4</th>\n",
       "      <td>176560</td>\n",
       "      <td>Wired Headphones</td>\n",
       "      <td>1</td>\n",
       "      <td>11.99</td>\n",
       "      <td>04/12/19 14:38</td>\n",
       "      <td>669 Spruce St, Los Angeles, CA 90001</td>\n",
       "    </tr>\n",
       "    <tr>\n",
       "      <th>5</th>\n",
       "      <td>176561</td>\n",
       "      <td>Wired Headphones</td>\n",
       "      <td>1</td>\n",
       "      <td>11.99</td>\n",
       "      <td>04/30/19 09:27</td>\n",
       "      <td>333 8th St, Los Angeles, CA 90001</td>\n",
       "    </tr>\n",
       "  </tbody>\n",
       "</table>\n",
       "</div>"
      ],
      "text/plain": [
       "  Order ID                     Product Quantity Ordered Price Each  \\\n",
       "0   176558        USB-C Charging Cable                2      11.95   \n",
       "2   176559  Bose SoundSport Headphones                1      99.99   \n",
       "3   176560                Google Phone                1        600   \n",
       "4   176560            Wired Headphones                1      11.99   \n",
       "5   176561            Wired Headphones                1      11.99   \n",
       "\n",
       "       Order Date                      Purchase Address  \n",
       "0  04/19/19 08:46          917 1st St, Dallas, TX 75001  \n",
       "2  04/07/19 22:30     682 Chestnut St, Boston, MA 02215  \n",
       "3  04/12/19 14:38  669 Spruce St, Los Angeles, CA 90001  \n",
       "4  04/12/19 14:38  669 Spruce St, Los Angeles, CA 90001  \n",
       "5  04/30/19 09:27     333 8th St, Los Angeles, CA 90001  "
      ]
     },
     "execution_count": 62,
     "metadata": {},
     "output_type": "execute_result"
    }
   ],
   "source": [
    "# Here we find all the rows that don't have the 'Or' at the start of the Order Date that we extract below.\n",
    "all_data = all_data[all_data['Order Date'].str[0 : 2] != 'Or']\n",
    "all_data.head()"
   ]
  },
  {
   "cell_type": "markdown",
   "id": "95b01a9b-a98b-43eb-8e3b-054424d2d73e",
   "metadata": {
    "jp-MarkdownHeadingCollapsed": true
   },
   "source": [
    "##### Convert column to correct type."
   ]
  },
  {
   "cell_type": "code",
   "execution_count": 63,
   "id": "6481a8a4-dbec-4425-aaef-6cdfa63f8fe0",
   "metadata": {},
   "outputs": [],
   "source": [
    "# Firstly we need to convert the type of both column from string to int and float.\n",
    "all_data['Quantity Ordered'] = pd.to_numeric(all_data['Quantity Ordered'])   #Make int.\n",
    "all_data['Price Each'] = pd.to_numeric(all_data['Price Each'])        #Make float."
   ]
  },
  {
   "cell_type": "markdown",
   "id": "d6224f36-408f-4c7f-8443-1e40312172e5",
   "metadata": {
    "jp-MarkdownHeadingCollapsed": true
   },
   "source": [
    "#### Augment Data with additional columns."
   ]
  },
  {
   "cell_type": "markdown",
   "id": "ae9b22da-4218-4c4e-bc88-9364c3871b4e",
   "metadata": {},
   "source": [
    "##### Add Column Month."
   ]
  },
  {
   "cell_type": "code",
   "execution_count": 64,
   "id": "6bc53ef2-5b87-4e10-b912-6be4fdbd95a3",
   "metadata": {},
   "outputs": [
    {
     "data": {
      "text/html": [
       "<div>\n",
       "<style scoped>\n",
       "    .dataframe tbody tr th:only-of-type {\n",
       "        vertical-align: middle;\n",
       "    }\n",
       "\n",
       "    .dataframe tbody tr th {\n",
       "        vertical-align: top;\n",
       "    }\n",
       "\n",
       "    .dataframe thead th {\n",
       "        text-align: right;\n",
       "    }\n",
       "</style>\n",
       "<table border=\"1\" class=\"dataframe\">\n",
       "  <thead>\n",
       "    <tr style=\"text-align: right;\">\n",
       "      <th></th>\n",
       "      <th>Order ID</th>\n",
       "      <th>Product</th>\n",
       "      <th>Quantity Ordered</th>\n",
       "      <th>Price Each</th>\n",
       "      <th>Order Date</th>\n",
       "      <th>Purchase Address</th>\n",
       "      <th>Month</th>\n",
       "    </tr>\n",
       "  </thead>\n",
       "  <tbody>\n",
       "    <tr>\n",
       "      <th>0</th>\n",
       "      <td>176558</td>\n",
       "      <td>USB-C Charging Cable</td>\n",
       "      <td>2</td>\n",
       "      <td>11.95</td>\n",
       "      <td>04/19/19 08:46</td>\n",
       "      <td>917 1st St, Dallas, TX 75001</td>\n",
       "      <td>4</td>\n",
       "    </tr>\n",
       "    <tr>\n",
       "      <th>2</th>\n",
       "      <td>176559</td>\n",
       "      <td>Bose SoundSport Headphones</td>\n",
       "      <td>1</td>\n",
       "      <td>99.99</td>\n",
       "      <td>04/07/19 22:30</td>\n",
       "      <td>682 Chestnut St, Boston, MA 02215</td>\n",
       "      <td>4</td>\n",
       "    </tr>\n",
       "    <tr>\n",
       "      <th>3</th>\n",
       "      <td>176560</td>\n",
       "      <td>Google Phone</td>\n",
       "      <td>1</td>\n",
       "      <td>600.00</td>\n",
       "      <td>04/12/19 14:38</td>\n",
       "      <td>669 Spruce St, Los Angeles, CA 90001</td>\n",
       "      <td>4</td>\n",
       "    </tr>\n",
       "    <tr>\n",
       "      <th>4</th>\n",
       "      <td>176560</td>\n",
       "      <td>Wired Headphones</td>\n",
       "      <td>1</td>\n",
       "      <td>11.99</td>\n",
       "      <td>04/12/19 14:38</td>\n",
       "      <td>669 Spruce St, Los Angeles, CA 90001</td>\n",
       "      <td>4</td>\n",
       "    </tr>\n",
       "    <tr>\n",
       "      <th>5</th>\n",
       "      <td>176561</td>\n",
       "      <td>Wired Headphones</td>\n",
       "      <td>1</td>\n",
       "      <td>11.99</td>\n",
       "      <td>04/30/19 09:27</td>\n",
       "      <td>333 8th St, Los Angeles, CA 90001</td>\n",
       "      <td>4</td>\n",
       "    </tr>\n",
       "  </tbody>\n",
       "</table>\n",
       "</div>"
      ],
      "text/plain": [
       "  Order ID                     Product  Quantity Ordered  Price Each  \\\n",
       "0   176558        USB-C Charging Cable                 2       11.95   \n",
       "2   176559  Bose SoundSport Headphones                 1       99.99   \n",
       "3   176560                Google Phone                 1      600.00   \n",
       "4   176560            Wired Headphones                 1       11.99   \n",
       "5   176561            Wired Headphones                 1       11.99   \n",
       "\n",
       "       Order Date                      Purchase Address  Month  \n",
       "0  04/19/19 08:46          917 1st St, Dallas, TX 75001      4  \n",
       "2  04/07/19 22:30     682 Chestnut St, Boston, MA 02215      4  \n",
       "3  04/12/19 14:38  669 Spruce St, Los Angeles, CA 90001      4  \n",
       "4  04/12/19 14:38  669 Spruce St, Los Angeles, CA 90001      4  \n",
       "5  04/30/19 09:27     333 8th St, Los Angeles, CA 90001      4  "
      ]
     },
     "execution_count": 64,
     "metadata": {},
     "output_type": "execute_result"
    }
   ],
   "source": [
    "all_data['Month'] = all_data['Order Date'].str[0 : 2]\n",
    "all_data['Month'] = all_data['Month'].astype('int32')\n",
    "all_data.head()"
   ]
  },
  {
   "cell_type": "markdown",
   "id": "bd14bc91-d40b-4c10-afa4-b475a91d08ac",
   "metadata": {},
   "source": [
    "##### Add the Sales Column."
   ]
  },
  {
   "cell_type": "code",
   "execution_count": 65,
   "id": "0b6353c1-e862-447e-9bda-9b59364c5708",
   "metadata": {
    "scrolled": true
   },
   "outputs": [
    {
     "data": {
      "text/html": [
       "<div>\n",
       "<style scoped>\n",
       "    .dataframe tbody tr th:only-of-type {\n",
       "        vertical-align: middle;\n",
       "    }\n",
       "\n",
       "    .dataframe tbody tr th {\n",
       "        vertical-align: top;\n",
       "    }\n",
       "\n",
       "    .dataframe thead th {\n",
       "        text-align: right;\n",
       "    }\n",
       "</style>\n",
       "<table border=\"1\" class=\"dataframe\">\n",
       "  <thead>\n",
       "    <tr style=\"text-align: right;\">\n",
       "      <th></th>\n",
       "      <th>Order ID</th>\n",
       "      <th>Product</th>\n",
       "      <th>Quantity Ordered</th>\n",
       "      <th>Price Each</th>\n",
       "      <th>Order Date</th>\n",
       "      <th>Purchase Address</th>\n",
       "      <th>Month</th>\n",
       "      <th>Sales</th>\n",
       "    </tr>\n",
       "  </thead>\n",
       "  <tbody>\n",
       "    <tr>\n",
       "      <th>0</th>\n",
       "      <td>176558</td>\n",
       "      <td>USB-C Charging Cable</td>\n",
       "      <td>2</td>\n",
       "      <td>11.95</td>\n",
       "      <td>04/19/19 08:46</td>\n",
       "      <td>917 1st St, Dallas, TX 75001</td>\n",
       "      <td>4</td>\n",
       "      <td>23.90</td>\n",
       "    </tr>\n",
       "    <tr>\n",
       "      <th>2</th>\n",
       "      <td>176559</td>\n",
       "      <td>Bose SoundSport Headphones</td>\n",
       "      <td>1</td>\n",
       "      <td>99.99</td>\n",
       "      <td>04/07/19 22:30</td>\n",
       "      <td>682 Chestnut St, Boston, MA 02215</td>\n",
       "      <td>4</td>\n",
       "      <td>99.99</td>\n",
       "    </tr>\n",
       "    <tr>\n",
       "      <th>3</th>\n",
       "      <td>176560</td>\n",
       "      <td>Google Phone</td>\n",
       "      <td>1</td>\n",
       "      <td>600.00</td>\n",
       "      <td>04/12/19 14:38</td>\n",
       "      <td>669 Spruce St, Los Angeles, CA 90001</td>\n",
       "      <td>4</td>\n",
       "      <td>600.00</td>\n",
       "    </tr>\n",
       "    <tr>\n",
       "      <th>4</th>\n",
       "      <td>176560</td>\n",
       "      <td>Wired Headphones</td>\n",
       "      <td>1</td>\n",
       "      <td>11.99</td>\n",
       "      <td>04/12/19 14:38</td>\n",
       "      <td>669 Spruce St, Los Angeles, CA 90001</td>\n",
       "      <td>4</td>\n",
       "      <td>11.99</td>\n",
       "    </tr>\n",
       "    <tr>\n",
       "      <th>5</th>\n",
       "      <td>176561</td>\n",
       "      <td>Wired Headphones</td>\n",
       "      <td>1</td>\n",
       "      <td>11.99</td>\n",
       "      <td>04/30/19 09:27</td>\n",
       "      <td>333 8th St, Los Angeles, CA 90001</td>\n",
       "      <td>4</td>\n",
       "      <td>11.99</td>\n",
       "    </tr>\n",
       "  </tbody>\n",
       "</table>\n",
       "</div>"
      ],
      "text/plain": [
       "  Order ID                     Product  Quantity Ordered  Price Each  \\\n",
       "0   176558        USB-C Charging Cable                 2       11.95   \n",
       "2   176559  Bose SoundSport Headphones                 1       99.99   \n",
       "3   176560                Google Phone                 1      600.00   \n",
       "4   176560            Wired Headphones                 1       11.99   \n",
       "5   176561            Wired Headphones                 1       11.99   \n",
       "\n",
       "       Order Date                      Purchase Address  Month   Sales  \n",
       "0  04/19/19 08:46          917 1st St, Dallas, TX 75001      4   23.90  \n",
       "2  04/07/19 22:30     682 Chestnut St, Boston, MA 02215      4   99.99  \n",
       "3  04/12/19 14:38  669 Spruce St, Los Angeles, CA 90001      4  600.00  \n",
       "4  04/12/19 14:38  669 Spruce St, Los Angeles, CA 90001      4   11.99  \n",
       "5  04/30/19 09:27     333 8th St, Los Angeles, CA 90001      4   11.99  "
      ]
     },
     "execution_count": 65,
     "metadata": {},
     "output_type": "execute_result"
    }
   ],
   "source": [
    "all_data['Sales'] = all_data['Quantity Ordered'] * all_data['Price Each']\n",
    "all_data.head()"
   ]
  },
  {
   "cell_type": "markdown",
   "id": "07a7a378-b4b3-46b1-9d94-bd4e51e409b2",
   "metadata": {},
   "source": [
    "##### Add the city Column."
   ]
  },
  {
   "cell_type": "code",
   "execution_count": 67,
   "id": "65767c84-457a-426a-9856-3139576cdd2d",
   "metadata": {},
   "outputs": [
    {
     "data": {
      "text/html": [
       "<div>\n",
       "<style scoped>\n",
       "    .dataframe tbody tr th:only-of-type {\n",
       "        vertical-align: middle;\n",
       "    }\n",
       "\n",
       "    .dataframe tbody tr th {\n",
       "        vertical-align: top;\n",
       "    }\n",
       "\n",
       "    .dataframe thead th {\n",
       "        text-align: right;\n",
       "    }\n",
       "</style>\n",
       "<table border=\"1\" class=\"dataframe\">\n",
       "  <thead>\n",
       "    <tr style=\"text-align: right;\">\n",
       "      <th></th>\n",
       "      <th>Order ID</th>\n",
       "      <th>Product</th>\n",
       "      <th>Quantity Ordered</th>\n",
       "      <th>Price Each</th>\n",
       "      <th>Order Date</th>\n",
       "      <th>Purchase Address</th>\n",
       "      <th>Month</th>\n",
       "      <th>Sales</th>\n",
       "      <th>City</th>\n",
       "    </tr>\n",
       "  </thead>\n",
       "  <tbody>\n",
       "    <tr>\n",
       "      <th>0</th>\n",
       "      <td>176558</td>\n",
       "      <td>USB-C Charging Cable</td>\n",
       "      <td>2</td>\n",
       "      <td>11.95</td>\n",
       "      <td>04/19/19 08:46</td>\n",
       "      <td>917 1st St, Dallas, TX 75001</td>\n",
       "      <td>4</td>\n",
       "      <td>23.90</td>\n",
       "      <td>TX</td>\n",
       "    </tr>\n",
       "    <tr>\n",
       "      <th>2</th>\n",
       "      <td>176559</td>\n",
       "      <td>Bose SoundSport Headphones</td>\n",
       "      <td>1</td>\n",
       "      <td>99.99</td>\n",
       "      <td>04/07/19 22:30</td>\n",
       "      <td>682 Chestnut St, Boston, MA 02215</td>\n",
       "      <td>4</td>\n",
       "      <td>99.99</td>\n",
       "      <td>MA</td>\n",
       "    </tr>\n",
       "    <tr>\n",
       "      <th>3</th>\n",
       "      <td>176560</td>\n",
       "      <td>Google Phone</td>\n",
       "      <td>1</td>\n",
       "      <td>600.00</td>\n",
       "      <td>04/12/19 14:38</td>\n",
       "      <td>669 Spruce St, Los Angeles, CA 90001</td>\n",
       "      <td>4</td>\n",
       "      <td>600.00</td>\n",
       "      <td>CA</td>\n",
       "    </tr>\n",
       "    <tr>\n",
       "      <th>4</th>\n",
       "      <td>176560</td>\n",
       "      <td>Wired Headphones</td>\n",
       "      <td>1</td>\n",
       "      <td>11.99</td>\n",
       "      <td>04/12/19 14:38</td>\n",
       "      <td>669 Spruce St, Los Angeles, CA 90001</td>\n",
       "      <td>4</td>\n",
       "      <td>11.99</td>\n",
       "      <td>CA</td>\n",
       "    </tr>\n",
       "    <tr>\n",
       "      <th>5</th>\n",
       "      <td>176561</td>\n",
       "      <td>Wired Headphones</td>\n",
       "      <td>1</td>\n",
       "      <td>11.99</td>\n",
       "      <td>04/30/19 09:27</td>\n",
       "      <td>333 8th St, Los Angeles, CA 90001</td>\n",
       "      <td>4</td>\n",
       "      <td>11.99</td>\n",
       "      <td>CA</td>\n",
       "    </tr>\n",
       "  </tbody>\n",
       "</table>\n",
       "</div>"
      ],
      "text/plain": [
       "  Order ID                     Product  Quantity Ordered  Price Each  \\\n",
       "0   176558        USB-C Charging Cable                 2       11.95   \n",
       "2   176559  Bose SoundSport Headphones                 1       99.99   \n",
       "3   176560                Google Phone                 1      600.00   \n",
       "4   176560            Wired Headphones                 1       11.99   \n",
       "5   176561            Wired Headphones                 1       11.99   \n",
       "\n",
       "       Order Date                      Purchase Address  Month   Sales City  \n",
       "0  04/19/19 08:46          917 1st St, Dallas, TX 75001      4   23.90   TX  \n",
       "2  04/07/19 22:30     682 Chestnut St, Boston, MA 02215      4   99.99   MA  \n",
       "3  04/12/19 14:38  669 Spruce St, Los Angeles, CA 90001      4  600.00   CA  \n",
       "4  04/12/19 14:38  669 Spruce St, Los Angeles, CA 90001      4   11.99   CA  \n",
       "5  04/30/19 09:27     333 8th St, Los Angeles, CA 90001      4   11.99   CA  "
      ]
     },
     "execution_count": 67,
     "metadata": {},
     "output_type": "execute_result"
    }
   ],
   "source": [
    "all_data['City'] = all_data['Purchase Address'].str[-8 : -6]\n",
    "all_data.head()"
   ]
  },
  {
   "cell_type": "markdown",
   "id": "70f1445f-7330-4131-a628-bf4e1ecba576",
   "metadata": {},
   "source": [
    "#### Best month for Sales? How much was earned that month?"
   ]
  },
  {
   "cell_type": "code",
   "execution_count": 75,
   "id": "387fe978-9051-45d5-8c7b-2d9d2ad12790",
   "metadata": {},
   "outputs": [],
   "source": [
    "# Now groupby is used to group all the same column and sum up the sales.\n",
    "grouped_df = all_data.groupby('Month', as_index = False).sum()\n",
    "# grouped_df"
   ]
  },
  {
   "cell_type": "markdown",
   "id": "c1d0112f-ef50-411d-8d4d-700d5b656f8f",
   "metadata": {},
   "source": [
    "##### find the best month using bar plot."
   ]
  },
  {
   "cell_type": "markdown",
   "id": "b41a7d16-f7ff-42ed-a231-9e0dbe739792",
   "metadata": {},
   "source": [
    "###### Chart 1"
   ]
  },
  {
   "cell_type": "code",
   "execution_count": 40,
   "id": "6d6e154a-4a64-47d6-a69f-f6202b9f2db9",
   "metadata": {},
   "outputs": [
    {
     "data": {
      "image/png": "[encoded data removed]",
      "text/plain": [
       "<Figure size 640x480 with 1 Axes>"
      ]
     },
     "metadata": {},
     "output_type": "display_data"
    }
   ],
   "source": [
    "import matplotlib.pyplot as plt\n",
    "\n",
    "plt.bar(grouped_df['Month'], grouped_df['Sales'])\n",
    "plt.xlabel('Month Number')\n",
    "plt.ylabel('Sales in USD ($)')\n",
    "plt.title('Sales vs Month')\n",
    "\n",
    "plt.show()"
   ]
  },
  {
   "cell_type": "markdown",
   "id": "dbf11792-8ced-43f7-9860-bf13898af896",
   "metadata": {},
   "source": [
    "###### Why we are using the bar plot."
   ]
  },
  {
   "cell_type": "markdown",
   "id": "2f2672cb-0a96-4cf9-abd9-b091d74eb492",
   "metadata": {},
   "source": [
    "Bar plots are an excellent way to display categorical data like months, as they allow us to easily compare the values associated with each category."
   ]
  },
  {
   "cell_type": "markdown",
   "id": "f5441e31-ed3d-4950-af98-b81fffed51a0",
   "metadata": {},
   "source": [
    "###### What Insights We Aim to Find."
   ]
  },
  {
   "cell_type": "markdown",
   "id": "0383ef83-c91b-4d8c-a3dc-9a8097e1eb1d",
   "metadata": {},
   "source": [
    "**Monthly Sales Comparison:** The bar plot will help us compare sales figures for each month side by side, making it easy to identify the relative performance of each month.\n",
    "**Identify the Peak Sales Month:** We will be able to easily spot the month with the maximum sales by looking at the tallest bar in the plot."
   ]
  },
  {
   "cell_type": "markdown",
   "id": "09d5f39a-acb1-4948-a74e-b2d7125e5fec",
   "metadata": {},
   "source": [
    "#### What city had the highest number of sales."
   ]
  },
  {
   "cell_type": "code",
   "execution_count": 77,
   "id": "ca430b1d-b01d-4863-9518-115c3af03bff",
   "metadata": {},
   "outputs": [
    {
     "data": {
      "text/html": [
       "<div>\n",
       "<style scoped>\n",
       "    .dataframe tbody tr th:only-of-type {\n",
       "        vertical-align: middle;\n",
       "    }\n",
       "\n",
       "    .dataframe tbody tr th {\n",
       "        vertical-align: top;\n",
       "    }\n",
       "\n",
       "    .dataframe thead th {\n",
       "        text-align: right;\n",
       "    }\n",
       "</style>\n",
       "<table border=\"1\" class=\"dataframe\">\n",
       "  <thead>\n",
       "    <tr style=\"text-align: right;\">\n",
       "      <th></th>\n",
       "      <th>City</th>\n",
       "      <th>Order ID</th>\n",
       "      <th>Product</th>\n",
       "      <th>Quantity Ordered</th>\n",
       "      <th>Price Each</th>\n",
       "      <th>Order Date</th>\n",
       "      <th>Purchase Address</th>\n",
       "      <th>Month</th>\n",
       "      <th>Sales</th>\n",
       "    </tr>\n",
       "  </thead>\n",
       "  <tbody>\n",
       "    <tr>\n",
       "      <th>0</th>\n",
       "      <td>CA</td>\n",
       "      <td>1765601765601765611765621765651765671765731765...</td>\n",
       "      <td>Google PhoneWired HeadphonesWired HeadphonesUS...</td>\n",
       "      <td>83528</td>\n",
       "      <td>13632896.97</td>\n",
       "      <td>04/12/19 14:3804/12/19 14:3804/30/19 09:2704/2...</td>\n",
       "      <td>669 Spruce St, Los Angeles, CA 90001669 Spruce...</td>\n",
       "      <td>523845</td>\n",
       "      <td>13714774.71</td>\n",
       "    </tr>\n",
       "    <tr>\n",
       "      <th>1</th>\n",
       "      <td>GA</td>\n",
       "      <td>1765641765711765821765891766231766271766341766...</td>\n",
       "      <td>USB-C Charging CableLightning Charging CableBo...</td>\n",
       "      <td>16602</td>\n",
       "      <td>2779908.20</td>\n",
       "      <td>04/12/19 10:5804/19/19 14:2904/27/19 12:2004/0...</td>\n",
       "      <td>790 Ridge St, Atlanta, GA 30301253 Johnson St,...</td>\n",
       "      <td>104794</td>\n",
       "      <td>2795498.58</td>\n",
       "    </tr>\n",
       "    <tr>\n",
       "      <th>2</th>\n",
       "      <td>MA</td>\n",
       "      <td>1765591765661765781765811765851765851766001766...</td>\n",
       "      <td>Bose SoundSport HeadphonesWired HeadphonesAppl...</td>\n",
       "      <td>22528</td>\n",
       "      <td>3637409.77</td>\n",
       "      <td>04/07/19 22:3004/08/19 14:0504/09/19 23:3504/0...</td>\n",
       "      <td>682 Chestnut St, Boston, MA 0221583 7th St, Bo...</td>\n",
       "      <td>141112</td>\n",
       "      <td>3661642.01</td>\n",
       "    </tr>\n",
       "    <tr>\n",
       "      <th>3</th>\n",
       "      <td>ME</td>\n",
       "      <td>1767731768791769091770721772301772331772991773...</td>\n",
       "      <td>AAA Batteries (4-pack)Flatscreen TVWired Headp...</td>\n",
       "      <td>2750</td>\n",
       "      <td>447189.25</td>\n",
       "      <td>04/25/19 20:0704/13/19 14:1504/22/19 09:5304/0...</td>\n",
       "      <td>30 9th St, Portland, ME 04101370 Sunset St, Po...</td>\n",
       "      <td>17144</td>\n",
       "      <td>449758.27</td>\n",
       "    </tr>\n",
       "    <tr>\n",
       "      <th>4</th>\n",
       "      <td>NY</td>\n",
       "      <td>1765721765751765791765901765991766131766371766...</td>\n",
       "      <td>Apple Airpods HeadphonesAAA Batteries (4-pack)...</td>\n",
       "      <td>27932</td>\n",
       "      <td>4635370.83</td>\n",
       "      <td>04/04/19 20:3004/27/19 00:3004/11/19 10:2304/1...</td>\n",
       "      <td>149 Dogwood St, New York City, NY 10001433 Hil...</td>\n",
       "      <td>175741</td>\n",
       "      <td>4664317.43</td>\n",
       "    </tr>\n",
       "    <tr>\n",
       "      <th>5</th>\n",
       "      <td>OR</td>\n",
       "      <td>1765831765931766171766421766461766481766621767...</td>\n",
       "      <td>AAA Batteries (4-pack)Lightning Charging Cable...</td>\n",
       "      <td>11303</td>\n",
       "      <td>1860558.22</td>\n",
       "      <td>04/20/19 12:0004/15/19 13:4504/25/19 08:0304/1...</td>\n",
       "      <td>146 Jackson St, Portland, OR 97035906 7th St, ...</td>\n",
       "      <td>70621</td>\n",
       "      <td>1870732.34</td>\n",
       "    </tr>\n",
       "    <tr>\n",
       "      <th>6</th>\n",
       "      <td>TX</td>\n",
       "      <td>1765581765691765701765771765911765961766021766...</td>\n",
       "      <td>USB-C Charging Cable27in 4K Gaming MonitorAA B...</td>\n",
       "      <td>27883</td>\n",
       "      <td>4562501.43</td>\n",
       "      <td>04/19/19 08:4604/16/19 19:2304/22/19 15:0904/0...</td>\n",
       "      <td>917 1st St, Dallas, TX 75001657 Hill St, Dalla...</td>\n",
       "      <td>174449</td>\n",
       "      <td>4587557.15</td>\n",
       "    </tr>\n",
       "    <tr>\n",
       "      <th>7</th>\n",
       "      <td>WA</td>\n",
       "      <td>1765631765681765881766121766241766541766631766...</td>\n",
       "      <td>Bose SoundSport HeadphonesLightning Charging C...</td>\n",
       "      <td>16553</td>\n",
       "      <td>2733296.01</td>\n",
       "      <td>04/02/19 07:4604/15/19 12:1804/02/19 04:0004/0...</td>\n",
       "      <td>668 Center St, Seattle, WA 98101438 Elm St, Se...</td>\n",
       "      <td>104941</td>\n",
       "      <td>2747755.48</td>\n",
       "    </tr>\n",
       "  </tbody>\n",
       "</table>\n",
       "</div>"
      ],
      "text/plain": [
       "  City                                           Order ID  \\\n",
       "0   CA  1765601765601765611765621765651765671765731765...   \n",
       "1   GA  1765641765711765821765891766231766271766341766...   \n",
       "2   MA  1765591765661765781765811765851765851766001766...   \n",
       "3   ME  1767731768791769091770721772301772331772991773...   \n",
       "4   NY  1765721765751765791765901765991766131766371766...   \n",
       "5   OR  1765831765931766171766421766461766481766621767...   \n",
       "6   TX  1765581765691765701765771765911765961766021766...   \n",
       "7   WA  1765631765681765881766121766241766541766631766...   \n",
       "\n",
       "                                             Product  Quantity Ordered  \\\n",
       "0  Google PhoneWired HeadphonesWired HeadphonesUS...             83528   \n",
       "1  USB-C Charging CableLightning Charging CableBo...             16602   \n",
       "2  Bose SoundSport HeadphonesWired HeadphonesAppl...             22528   \n",
       "3  AAA Batteries (4-pack)Flatscreen TVWired Headp...              2750   \n",
       "4  Apple Airpods HeadphonesAAA Batteries (4-pack)...             27932   \n",
       "5  AAA Batteries (4-pack)Lightning Charging Cable...             11303   \n",
       "6  USB-C Charging Cable27in 4K Gaming MonitorAA B...             27883   \n",
       "7  Bose SoundSport HeadphonesLightning Charging C...             16553   \n",
       "\n",
       "    Price Each                                         Order Date  \\\n",
       "0  13632896.97  04/12/19 14:3804/12/19 14:3804/30/19 09:2704/2...   \n",
       "1   2779908.20  04/12/19 10:5804/19/19 14:2904/27/19 12:2004/0...   \n",
       "2   3637409.77  04/07/19 22:3004/08/19 14:0504/09/19 23:3504/0...   \n",
       "3    447189.25  04/25/19 20:0704/13/19 14:1504/22/19 09:5304/0...   \n",
       "4   4635370.83  04/04/19 20:3004/27/19 00:3004/11/19 10:2304/1...   \n",
       "5   1860558.22  04/20/19 12:0004/15/19 13:4504/25/19 08:0304/1...   \n",
       "6   4562501.43  04/19/19 08:4604/16/19 19:2304/22/19 15:0904/0...   \n",
       "7   2733296.01  04/02/19 07:4604/15/19 12:1804/02/19 04:0004/0...   \n",
       "\n",
       "                                    Purchase Address   Month        Sales  \n",
       "0  669 Spruce St, Los Angeles, CA 90001669 Spruce...  523845  13714774.71  \n",
       "1  790 Ridge St, Atlanta, GA 30301253 Johnson St,...  104794   2795498.58  \n",
       "2  682 Chestnut St, Boston, MA 0221583 7th St, Bo...  141112   3661642.01  \n",
       "3  30 9th St, Portland, ME 04101370 Sunset St, Po...   17144    449758.27  \n",
       "4  149 Dogwood St, New York City, NY 10001433 Hil...  175741   4664317.43  \n",
       "5  146 Jackson St, Portland, OR 97035906 7th St, ...   70621   1870732.34  \n",
       "6  917 1st St, Dallas, TX 75001657 Hill St, Dalla...  174449   4587557.15  \n",
       "7  668 Center St, Seattle, WA 98101438 Elm St, Se...  104941   2747755.48  "
      ]
     },
     "execution_count": 77,
     "metadata": {},
     "output_type": "execute_result"
    }
   ],
   "source": [
    "grouped_city_df = all_data.groupby('City', as_index = False).sum()\n",
    "grouped_city_df"
   ]
  },
  {
   "cell_type": "markdown",
   "id": "982ebfbe-d311-40e8-922e-0baa46806c65",
   "metadata": {},
   "source": [
    "##### find the best City using bar plot."
   ]
  },
  {
   "cell_type": "markdown",
   "id": "5965b1ab-9fec-447d-9c11-8ea6a4eadb40",
   "metadata": {},
   "source": [
    "###### Chart 2"
   ]
  },
  {
   "cell_type": "code",
   "execution_count": 81,
   "id": "bb0a92a9-415b-492a-bb22-7f646263ce37",
   "metadata": {},
   "outputs": [
    {
     "data": {
      "image/png": "[encoded data removed]",
      "text/plain": [
       "<Figure size 640x480 with 1 Axes>"
      ]
     },
     "metadata": {},
     "output_type": "display_data"
    }
   ],
   "source": [
    "import matplotlib.pyplot as plt\n",
    "\n",
    "plt.bar(grouped_city_df['City'], grouped_city_df['Sales'])\n",
    "plt.xlabel('Cities')\n",
    "plt.ylabel('Sales')\n",
    "plt.title('City vs Sales')\n",
    "\n",
    "plt.show()"
   ]
  },
  {
   "cell_type": "markdown",
   "id": "51b4139d-7c5e-4b33-9f6b-8ac5a9fde254",
   "metadata": {},
   "source": [
    "###### Why we are using the bar plot."
   ]
  },
  {
   "cell_type": "markdown",
   "id": "cf0348db-115f-4ca8-a253-0fb23c5d28dc",
   "metadata": {},
   "source": [
    "**Bar plots** are ideal for representing categorical data like cities, allowing for easy comparison of sales across different locations."
   ]
  },
  {
   "cell_type": "markdown",
   "id": "07d92509-29b0-45c1-a429-ac6337896ab4",
   "metadata": {},
   "source": [
    "###### What Insights We Aim to Find."
   ]
  },
  {
   "cell_type": "markdown",
   "id": "40731e7f-f313-42a7-ad90-36f4fd37a020",
   "metadata": {},
   "source": [
    "**Sales Comparison by City:** The bar plot allows us to easily compare sales figures between cities, helping us understand which cities are driving the most revenue.\n",
    "\n",
    "**Identify the City with the Highest Sales:** By looking at the tallest bar in the plot, we can quickly identify the city with the maximum sales, highlighting the best-performing location, Here we can see that ."
   ]
  },
  {
   "cell_type": "markdown",
   "id": "3485c307-10a2-4402-9c54-199728260a38",
   "metadata": {},
   "source": [
    "#### Key Points:"
   ]
  },
  {
   "cell_type": "markdown",
   "id": "1229963e-16bc-4070-93da-e81eef138ee0",
   "metadata": {},
   "source": [
    "1. NaN is a special floating-point value, and cannot be converted to any other type than float.\n",
    "2. **Find the maximum and find relative index of maximum value:**\n",
    "        Line 1. maximum_sale = grouped_df['Sales'].max()\n",
    "        Line 2. max_sales_index = grouped_df['Sales'].idxmax()\n",
    "        Line 3. maximum_sale_month = grouped_df.loc[max_sales_index, 'Month']"
   ]
  }
 ],
 "metadata": {
  "kernelspec": {
   "display_name": "Python 3 (ipykernel)",
   "language": "python",
   "name": "python3"
  },
  "language_info": {
   "codemirror_mode": {
    "name": "ipython",
    "version": 3
   },
   "file_extension": ".py",
   "mimetype": "text/x-python",
   "name": "python",
   "nbconvert_exporter": "python",
   "pygments_lexer": "ipython3",
   "version": "3.12.6"
  }
 },
 "nbformat": 4,
 "nbformat_minor": 5
}
